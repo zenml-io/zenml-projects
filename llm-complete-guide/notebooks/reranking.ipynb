{
 "cells": [
  {
   "cell_type": "code",
   "execution_count": null,
   "metadata": {},
   "outputs": [],
   "source": [
    "from rerankers import Reranker\n",
    "from rich import print"
   ]
  },
  {
   "cell_type": "code",
   "execution_count": null,
   "metadata": {},
   "outputs": [],
   "source": [
    "# ranker = Reranker('cross-encoder')\n",
    "# ranker = Reranker('avsolatorio/GIST-large-Embedding-v0')\n",
    "# ranker = Reranker('flashrank')\n",
    "# ranker = Reranker('ce-esci-MiniLM-L12-v2', model_type='flashrank')\n",
    "# ranker = Reranker(\"t5\")\n",
    "# ranker = Reranker(\"unicamp-dl/InRanker-base\", model_type = \"t5\")\n",
    "# ranker = Reranker(\"colbert\")\n",
    "ranker = Reranker(\n",
    "    \"mixedbread-ai/mxbai-rerank-large-v1\", model_type=\"cross-encoder\"\n",
    ")"
   ]
  },
  {
   "cell_type": "code",
   "execution_count": null,
   "metadata": {},
   "outputs": [],
   "source": [
    "texts = [\n",
    "    \"I like to play soccer\",\n",
    "    \"I like to play football\",\n",
    "    \"I like to play basketball\",\n",
    "    \"I love dogs\",\n",
    "    \"Catcher in the Rye is a great book\",\n",
    "]"
   ]
  },
  {
   "cell_type": "code",
   "execution_count": null,
   "metadata": {},
   "outputs": [],
   "source": [
    "results = ranker.rank(query=\"What's your favorite sport?\", docs=texts)\n",
    "\n",
    "print(results)"
   ]
  },
  {
   "cell_type": "code",
   "execution_count": null,
   "metadata": {},
   "outputs": [],
   "source": [
    "print([document.text for document in results.results])"
   ]
  },
  {
   "cell_type": "code",
   "execution_count": null,
   "metadata": {},
   "outputs": [],
   "source": []
  },
  {
   "cell_type": "markdown",
   "metadata": {},
   "source": [
    "# Testing `query_similar_docs`"
   ]
  },
  {
   "cell_type": "code",
   "execution_count": null,
   "metadata": {},
   "outputs": [],
   "source": [
    "embedded_question = get_embeddings(question)\n",
    "db_conn = get_db_conn()\n",
    "num_docs = 20 if use_reranking else 5\n",
    "# get (content, url) tuples for the top n similar documents\n",
    "top_similar_docs = get_topn_similar_docs(\n",
    "    embedded_question, db_conn, n=num_docs, include_metadata=True\n",
    ")\n",
    "\n",
    "if use_reranking:\n",
    "    urls = rerank_documents(question, top_similar_docs)[:5]\n",
    "else:\n",
    "    urls = [doc[1] for doc in top_similar_docs]  # Unpacking URLs\n",
    "\n",
    "return (question, url_ending, urls)"
   ]
  },
  {
   "cell_type": "markdown",
   "metadata": {},
   "source": [
    "# Simplistic TF-IDF Reranker"
   ]
  },
  {
   "cell_type": "code",
   "execution_count": null,
   "metadata": {},
   "outputs": [],
   "source": [
    "import numpy as np\n",
    "from sklearn.feature_extraction.text import TfidfVectorizer\n",
    "from sklearn.linear_model import LogisticRegression\n",
    "\n",
    "# Toy document corpus\n",
    "documents = [\n",
    "    \"The quick brown fox jumps over the lazy dog\",\n",
    "    \"A quick brown fox jumps over the lazy dog\",\n",
    "    \"The quick brown fox is quick and brown\",\n",
    "    \"The lazy dog is lazy and sleepy\",\n",
    "    \"The quick brown fox is different from the lazy dog\",\n",
    "]\n",
    "\n",
    "# Toy queries and their corresponding relevant document indices\n",
    "queries = [\n",
    "    (\"quick fox\", [0, 1, 2]),\n",
    "    (\"lazy dog\", [3, 4]),\n",
    "    (\"brown fox\", [0, 1, 2, 4]),\n",
    "]\n",
    "\n",
    "# Create TF-IDF vectorizer\n",
    "vectorizer = TfidfVectorizer()\n",
    "\n",
    "# Vectorize documents\n",
    "document_vectors = vectorizer.fit_transform(documents)\n",
    "\n",
    "# Train a logistic regression reranker\n",
    "reranker = LogisticRegression(random_state=42)\n",
    "X_train = []\n",
    "y_train = []\n",
    "\n",
    "for query, relevant_docs in queries:\n",
    "    query_vector = vectorizer.transform([query])\n",
    "    for doc_idx, doc_vector in enumerate(document_vectors):\n",
    "        X_train.append(\n",
    "            np.concatenate(\n",
    "                (query_vector.toarray()[0], doc_vector.toarray()[0])\n",
    "            )\n",
    "        )\n",
    "        y_train.append(1 if doc_idx in relevant_docs else 0)\n",
    "\n",
    "reranker.fit(X_train, y_train)\n",
    "\n",
    "# Example usage of the trained reranker\n",
    "query = \"quick brown fox\"\n",
    "query_vector = vectorizer.transform([query])\n",
    "scores = []\n",
    "\n",
    "for doc_vector in document_vectors:\n",
    "    input_vector = np.concatenate(\n",
    "        (query_vector.toarray()[0], doc_vector.toarray()[0])\n",
    "    )\n",
    "    score = reranker.predict_proba([input_vector])[0][1]\n",
    "    scores.append(score)\n",
    "\n",
    "ranked_indices = np.argsort(scores)[::-1]\n",
    "print(\"Ranked documents for query:\", query)\n",
    "for idx in ranked_indices:\n",
    "    print(\"Document:\", documents[idx])\n",
    "    print(\"Score:\", scores[idx])\n",
    "    print()"
   ]
  },
  {
   "cell_type": "code",
   "execution_count": null,
   "metadata": {},
   "outputs": [],
   "source": [
    "from rerankers import Reranker\n",
    "\n",
    "ranker = Reranker(\"cross-encoder\")\n",
    "\n",
    "texts = [\n",
    "    \"I like to play soccer\",\n",
    "    \"I like to play football\",\n",
    "    \"War and Peace is a great book\",\n",
    "    \"I love dogs\",\n",
    "    \"Ginger cats aren't very smart\",\n",
    "    \"I like to play basketball\",\n",
    "]\n",
    "\n",
    "results = ranker.rank(query=\"What's your favorite sport?\", docs=texts)"
   ]
  },
  {
   "cell_type": "code",
   "execution_count": null,
   "metadata": {},
   "outputs": [],
   "source": [
    "print(results)"
   ]
  },
  {
   "cell_type": "code",
   "execution_count": null,
   "metadata": {},
   "outputs": [],
   "source": []
  }
 ],
 "metadata": {
  "kernelspec": {
   "display_name": "Python 3 (ipykernel)",
   "language": "python",
   "name": "python3"
  },
  "language_info": {
   "codemirror_mode": {
    "name": "ipython",
    "version": 3
   },
   "file_extension": ".py",
   "mimetype": "text/x-python",
   "name": "python",
   "nbconvert_exporter": "python",
   "pygments_lexer": "ipython3",
   "version": "3.11.9"
  }
 },
 "nbformat": 4,
 "nbformat_minor": 4
}
