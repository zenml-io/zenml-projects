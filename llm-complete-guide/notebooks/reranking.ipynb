{
 "cells": [
  {
   "cell_type": "code",
   "execution_count": 3,
   "metadata": {},
   "outputs": [],
   "source": [
    "from rerankers import Reranker\n",
    "from rich import print"
   ]
  },
  {
   "cell_type": "code",
   "execution_count": 41,
   "metadata": {},
   "outputs": [
    {
     "name": "stdout",
     "output_type": "stream",
     "text": [
      "Loading TransformerRanker model mixedbread-ai/mxbai-rerank-large-v1\n",
      "No device set\n",
      "Using device cuda\n",
      "No dtype set\n",
      "Using dtype torch.float16\n"
     ]
    },
    {
     "data": {
      "application/vnd.jupyter.widget-view+json": {
       "model_id": "867edac78ccb49aea85b6e96c03c201b",
       "version_major": 2,
       "version_minor": 0
      },
      "text/plain": [
       "config.json:   0%|          | 0.00/970 [00:00<?, ?B/s]"
      ]
     },
     "metadata": {},
     "output_type": "display_data"
    },
    {
     "data": {
      "application/vnd.jupyter.widget-view+json": {
       "model_id": "917b3071bcc7408486af412a17a3636e",
       "version_major": 2,
       "version_minor": 0
      },
      "text/plain": [
       "model.safetensors:   0%|          | 0.00/870M [00:00<?, ?B/s]"
      ]
     },
     "metadata": {},
     "output_type": "display_data"
    },
    {
     "name": "stdout",
     "output_type": "stream",
     "text": [
      "Loaded model mixedbread-ai/mxbai-rerank-large-v1\n",
      "Using device cuda.\n",
      "Using dtype torch.float16.\n"
     ]
    },
    {
     "data": {
      "application/vnd.jupyter.widget-view+json": {
       "model_id": "b28cce9cc011465688172e44656f7385",
       "version_major": 2,
       "version_minor": 0
      },
      "text/plain": [
       "tokenizer_config.json:   0%|          | 0.00/1.45k [00:00<?, ?B/s]"
      ]
     },
     "metadata": {},
     "output_type": "display_data"
    },
    {
     "data": {
      "application/vnd.jupyter.widget-view+json": {
       "model_id": "f7daf97b1ca44b9791e2df292169e392",
       "version_major": 2,
       "version_minor": 0
      },
      "text/plain": [
       "spm.model:   0%|          | 0.00/2.46M [00:00<?, ?B/s]"
      ]
     },
     "metadata": {},
     "output_type": "display_data"
    },
    {
     "data": {
      "application/vnd.jupyter.widget-view+json": {
       "model_id": "2392573238c7454cb4fa95ae3d0e28a9",
       "version_major": 2,
       "version_minor": 0
      },
      "text/plain": [
       "tokenizer.json:   0%|          | 0.00/8.65M [00:00<?, ?B/s]"
      ]
     },
     "metadata": {},
     "output_type": "display_data"
    },
    {
     "data": {
      "application/vnd.jupyter.widget-view+json": {
       "model_id": "c44313849c8f4e9e825752931bd6bb6b",
       "version_major": 2,
       "version_minor": 0
      },
      "text/plain": [
       "added_tokens.json:   0%|          | 0.00/23.0 [00:00<?, ?B/s]"
      ]
     },
     "metadata": {},
     "output_type": "display_data"
    },
    {
     "data": {
      "application/vnd.jupyter.widget-view+json": {
       "model_id": "31d1ccfda744411d8ba7ea3429c9ff57",
       "version_major": 2,
       "version_minor": 0
      },
      "text/plain": [
       "special_tokens_map.json:   0%|          | 0.00/970 [00:00<?, ?B/s]"
      ]
     },
     "metadata": {},
     "output_type": "display_data"
    }
   ],
   "source": [
    "# ranker = Reranker('cross-encoder')\n",
    "# ranker = Reranker('avsolatorio/GIST-large-Embedding-v0')\n",
    "# ranker = Reranker('flashrank')\n",
    "# ranker = Reranker('ce-esci-MiniLM-L12-v2', model_type='flashrank')\n",
    "# ranker = Reranker(\"t5\")\n",
    "# ranker = Reranker(\"unicamp-dl/InRanker-base\", model_type = \"t5\")\n",
    "# ranker = Reranker(\"colbert\")\n",
    "ranker = Reranker('mixedbread-ai/mxbai-rerank-large-v1', model_type='cross-encoder')"
   ]
  },
  {
   "cell_type": "code",
   "execution_count": 42,
   "metadata": {},
   "outputs": [],
   "source": [
    "texts = [\"I like to play soccer\", \"I like to play football\", \"I like to play basketball\", \"I love dogs\", \"Catcher in the Rye is a great book\"]"
   ]
  },
  {
   "cell_type": "code",
   "execution_count": 43,
   "metadata": {},
   "outputs": [
    {
     "data": {
      "text/html": [
       "<pre style=\"white-space:pre;overflow-x:auto;line-height:normal;font-family:Menlo,'DejaVu Sans Mono',consolas,'Courier New',monospace\"><span style=\"color: #800080; text-decoration-color: #800080; font-weight: bold\">RankedResults</span><span style=\"font-weight: bold\">(</span>\n",
       "    <span style=\"color: #808000; text-decoration-color: #808000\">results</span>=<span style=\"font-weight: bold\">[</span>\n",
       "        <span style=\"color: #800080; text-decoration-color: #800080; font-weight: bold\">Result</span><span style=\"font-weight: bold\">(</span><span style=\"color: #808000; text-decoration-color: #808000\">doc_id</span>=<span style=\"color: #008080; text-decoration-color: #008080; font-weight: bold\">0</span>, <span style=\"color: #808000; text-decoration-color: #808000\">text</span>=<span style=\"color: #008000; text-decoration-color: #008000\">'I like to play soccer'</span>, <span style=\"color: #808000; text-decoration-color: #808000\">score</span>=<span style=\"color: #008080; text-decoration-color: #008080; font-weight: bold\">-1.2607421875</span>, <span style=\"color: #808000; text-decoration-color: #808000\">rank</span>=<span style=\"color: #008080; text-decoration-color: #008080; font-weight: bold\">1</span><span style=\"font-weight: bold\">)</span>,\n",
       "        <span style=\"color: #800080; text-decoration-color: #800080; font-weight: bold\">Result</span><span style=\"font-weight: bold\">(</span><span style=\"color: #808000; text-decoration-color: #808000\">doc_id</span>=<span style=\"color: #008080; text-decoration-color: #008080; font-weight: bold\">2</span>, <span style=\"color: #808000; text-decoration-color: #808000\">text</span>=<span style=\"color: #008000; text-decoration-color: #008000\">'I like to play basketball'</span>, <span style=\"color: #808000; text-decoration-color: #808000\">score</span>=<span style=\"color: #008080; text-decoration-color: #008080; font-weight: bold\">-1.2890625</span>, <span style=\"color: #808000; text-decoration-color: #808000\">rank</span>=<span style=\"color: #008080; text-decoration-color: #008080; font-weight: bold\">2</span><span style=\"font-weight: bold\">)</span>,\n",
       "        <span style=\"color: #800080; text-decoration-color: #800080; font-weight: bold\">Result</span><span style=\"font-weight: bold\">(</span><span style=\"color: #808000; text-decoration-color: #808000\">doc_id</span>=<span style=\"color: #008080; text-decoration-color: #008080; font-weight: bold\">1</span>, <span style=\"color: #808000; text-decoration-color: #808000\">text</span>=<span style=\"color: #008000; text-decoration-color: #008000\">'I like to play football'</span>, <span style=\"color: #808000; text-decoration-color: #808000\">score</span>=<span style=\"color: #008080; text-decoration-color: #008080; font-weight: bold\">-1.9384765625</span>, <span style=\"color: #808000; text-decoration-color: #808000\">rank</span>=<span style=\"color: #008080; text-decoration-color: #008080; font-weight: bold\">3</span><span style=\"font-weight: bold\">)</span>,\n",
       "        <span style=\"color: #800080; text-decoration-color: #800080; font-weight: bold\">Result</span><span style=\"font-weight: bold\">(</span><span style=\"color: #808000; text-decoration-color: #808000\">doc_id</span>=<span style=\"color: #008080; text-decoration-color: #008080; font-weight: bold\">3</span>, <span style=\"color: #808000; text-decoration-color: #808000\">text</span>=<span style=\"color: #008000; text-decoration-color: #008000\">'I love dogs'</span>, <span style=\"color: #808000; text-decoration-color: #808000\">score</span>=<span style=\"color: #008080; text-decoration-color: #008080; font-weight: bold\">-5.12109375</span>, <span style=\"color: #808000; text-decoration-color: #808000\">rank</span>=<span style=\"color: #008080; text-decoration-color: #008080; font-weight: bold\">4</span><span style=\"font-weight: bold\">)</span>,\n",
       "        <span style=\"color: #800080; text-decoration-color: #800080; font-weight: bold\">Result</span><span style=\"font-weight: bold\">(</span><span style=\"color: #808000; text-decoration-color: #808000\">doc_id</span>=<span style=\"color: #008080; text-decoration-color: #008080; font-weight: bold\">4</span>, <span style=\"color: #808000; text-decoration-color: #808000\">text</span>=<span style=\"color: #008000; text-decoration-color: #008000\">'Catcher in the Rye is a great book'</span>, <span style=\"color: #808000; text-decoration-color: #808000\">score</span>=<span style=\"color: #008080; text-decoration-color: #008080; font-weight: bold\">-6.19140625</span>, <span style=\"color: #808000; text-decoration-color: #808000\">rank</span>=<span style=\"color: #008080; text-decoration-color: #008080; font-weight: bold\">5</span><span style=\"font-weight: bold\">)</span>\n",
       "    <span style=\"font-weight: bold\">]</span>,\n",
       "    <span style=\"color: #808000; text-decoration-color: #808000\">query</span>=<span style=\"color: #008000; text-decoration-color: #008000\">\"What's your favorite sport?\"</span>,\n",
       "    <span style=\"color: #808000; text-decoration-color: #808000\">has_scores</span>=<span style=\"color: #00ff00; text-decoration-color: #00ff00; font-style: italic\">True</span>\n",
       "<span style=\"font-weight: bold\">)</span>\n",
       "</pre>\n"
      ],
      "text/plain": [
       "\u001b[1;35mRankedResults\u001b[0m\u001b[1m(\u001b[0m\n",
       "    \u001b[33mresults\u001b[0m=\u001b[1m[\u001b[0m\n",
       "        \u001b[1;35mResult\u001b[0m\u001b[1m(\u001b[0m\u001b[33mdoc_id\u001b[0m=\u001b[1;36m0\u001b[0m, \u001b[33mtext\u001b[0m=\u001b[32m'I like to play soccer'\u001b[0m, \u001b[33mscore\u001b[0m=\u001b[1;36m-1.2607421875\u001b[0m, \u001b[33mrank\u001b[0m=\u001b[1;36m1\u001b[0m\u001b[1m)\u001b[0m,\n",
       "        \u001b[1;35mResult\u001b[0m\u001b[1m(\u001b[0m\u001b[33mdoc_id\u001b[0m=\u001b[1;36m2\u001b[0m, \u001b[33mtext\u001b[0m=\u001b[32m'I like to play basketball'\u001b[0m, \u001b[33mscore\u001b[0m=\u001b[1;36m-1.2890625\u001b[0m, \u001b[33mrank\u001b[0m=\u001b[1;36m2\u001b[0m\u001b[1m)\u001b[0m,\n",
       "        \u001b[1;35mResult\u001b[0m\u001b[1m(\u001b[0m\u001b[33mdoc_id\u001b[0m=\u001b[1;36m1\u001b[0m, \u001b[33mtext\u001b[0m=\u001b[32m'I like to play football'\u001b[0m, \u001b[33mscore\u001b[0m=\u001b[1;36m-1.9384765625\u001b[0m, \u001b[33mrank\u001b[0m=\u001b[1;36m3\u001b[0m\u001b[1m)\u001b[0m,\n",
       "        \u001b[1;35mResult\u001b[0m\u001b[1m(\u001b[0m\u001b[33mdoc_id\u001b[0m=\u001b[1;36m3\u001b[0m, \u001b[33mtext\u001b[0m=\u001b[32m'I love dogs'\u001b[0m, \u001b[33mscore\u001b[0m=\u001b[1;36m-5.12109375\u001b[0m, \u001b[33mrank\u001b[0m=\u001b[1;36m4\u001b[0m\u001b[1m)\u001b[0m,\n",
       "        \u001b[1;35mResult\u001b[0m\u001b[1m(\u001b[0m\u001b[33mdoc_id\u001b[0m=\u001b[1;36m4\u001b[0m, \u001b[33mtext\u001b[0m=\u001b[32m'Catcher in the Rye is a great book'\u001b[0m, \u001b[33mscore\u001b[0m=\u001b[1;36m-6.19140625\u001b[0m, \u001b[33mrank\u001b[0m=\u001b[1;36m5\u001b[0m\u001b[1m)\u001b[0m\n",
       "    \u001b[1m]\u001b[0m,\n",
       "    \u001b[33mquery\u001b[0m=\u001b[32m\"What\u001b[0m\u001b[32m's your favorite sport?\"\u001b[0m,\n",
       "    \u001b[33mhas_scores\u001b[0m=\u001b[3;92mTrue\u001b[0m\n",
       "\u001b[1m)\u001b[0m\n"
      ]
     },
     "metadata": {},
     "output_type": "display_data"
    }
   ],
   "source": [
    "results = ranker.rank(query=\"What's your favorite sport?\", docs=texts)\n",
    "\n",
    "print(results)\n",
    "\n"
   ]
  },
  {
   "cell_type": "code",
   "execution_count": 44,
   "metadata": {},
   "outputs": [
    {
     "data": {
      "text/html": [
       "<pre style=\"white-space:pre;overflow-x:auto;line-height:normal;font-family:Menlo,'DejaVu Sans Mono',consolas,'Courier New',monospace\"><span style=\"font-weight: bold\">[</span>\n",
       "    <span style=\"color: #008000; text-decoration-color: #008000\">'I like to play soccer'</span>,\n",
       "    <span style=\"color: #008000; text-decoration-color: #008000\">'I like to play basketball'</span>,\n",
       "    <span style=\"color: #008000; text-decoration-color: #008000\">'I like to play football'</span>,\n",
       "    <span style=\"color: #008000; text-decoration-color: #008000\">'I love dogs'</span>,\n",
       "    <span style=\"color: #008000; text-decoration-color: #008000\">'Catcher in the Rye is a great book'</span>\n",
       "<span style=\"font-weight: bold\">]</span>\n",
       "</pre>\n"
      ],
      "text/plain": [
       "\u001b[1m[\u001b[0m\n",
       "    \u001b[32m'I like to play soccer'\u001b[0m,\n",
       "    \u001b[32m'I like to play basketball'\u001b[0m,\n",
       "    \u001b[32m'I like to play football'\u001b[0m,\n",
       "    \u001b[32m'I love dogs'\u001b[0m,\n",
       "    \u001b[32m'Catcher in the Rye is a great book'\u001b[0m\n",
       "\u001b[1m]\u001b[0m\n"
      ]
     },
     "metadata": {},
     "output_type": "display_data"
    }
   ],
   "source": [
    "print([document.text for document in results.results])\n",
    "\n"
   ]
  },
  {
   "cell_type": "code",
   "execution_count": null,
   "metadata": {},
   "outputs": [],
   "source": []
  },
  {
   "cell_type": "markdown",
   "metadata": {},
   "source": [
    "# Testing `query_similar_docs`"
   ]
  },
  {
   "cell_type": "code",
   "execution_count": 46,
   "metadata": {},
   "outputs": [
    {
     "ename": "ImportError",
     "evalue": "attempted relative import with no known parent package",
     "output_type": "error",
     "traceback": [
      "\u001b[0;31m---------------------------------------------------------------------------\u001b[0m",
      "\u001b[0;31mImportError\u001b[0m                               Traceback (most recent call last)",
      "Cell \u001b[0;32mIn[46], line 1\u001b[0m\n\u001b[0;32m----> 1\u001b[0m \u001b[38;5;28;01mfrom\u001b[39;00m \u001b[38;5;21;01m.\u001b[39;00m\u001b[38;5;21;01m.\u001b[39;00m\u001b[38;5;21;01msteps\u001b[39;00m\u001b[38;5;21;01m.\u001b[39;00m\u001b[38;5;21;01meval_retrieval\u001b[39;00m \u001b[38;5;28;01mimport\u001b[39;00m query_similar_docs\n",
      "\u001b[0;31mImportError\u001b[0m: attempted relative import with no known parent package"
     ]
    }
   ],
   "source": [
    "embedded_question = get_embeddings(question)\n",
    "    db_conn = get_db_conn()\n",
    "    num_docs = 20 if use_reranking else 5\n",
    "    # get (content, url) tuples for the top n similar documents\n",
    "    top_similar_docs = get_topn_similar_docs(\n",
    "        embedded_question, db_conn, n=num_docs, include_metadata=True\n",
    "    )\n",
    "\n",
    "    if use_reranking:\n",
    "        urls = rerank_documents(question, top_similar_docs)[:5]\n",
    "    else:\n",
    "        urls = [doc[1] for doc in top_similar_docs]  # Unpacking URLs\n",
    "\n",
    "    return (question, url_ending, urls)\n"
   ]
  },
  {
   "cell_type": "markdown",
   "metadata": {},
   "source": [
    "# Simplistic TF-IDF Reranker"
   ]
  },
  {
   "cell_type": "code",
   "execution_count": 1,
   "metadata": {},
   "outputs": [
    {
     "name": "stdout",
     "output_type": "stream",
     "text": [
      "Ranked documents for query: quick brown fox\n",
      "Document: A quick brown fox jumps over the lazy dog\n",
      "Score: 0.6937165451385258\n",
      "\n",
      "Document: The quick brown fox jumps over the lazy dog\n",
      "Score: 0.6928630071635998\n",
      "\n",
      "Document: The quick brown fox is quick and brown\n",
      "Score: 0.6868308019742143\n",
      "\n",
      "Document: The quick brown fox is different from the lazy dog\n",
      "Score: 0.6802242759508812\n",
      "\n",
      "Document: The lazy dog is lazy and sleepy\n",
      "Score: 0.5727275080137214\n",
      "\n"
     ]
    }
   ],
   "source": [
    "import numpy as np\n",
    "from sklearn.feature_extraction.text import TfidfVectorizer\n",
    "from sklearn.linear_model import LogisticRegression\n",
    "\n",
    "# Toy document corpus\n",
    "documents = [\n",
    "    \"The quick brown fox jumps over the lazy dog\",\n",
    "    \"A quick brown fox jumps over the lazy dog\",\n",
    "    \"The quick brown fox is quick and brown\",\n",
    "    \"The lazy dog is lazy and sleepy\",\n",
    "    \"The quick brown fox is different from the lazy dog\"\n",
    "]\n",
    "\n",
    "# Toy queries and their corresponding relevant document indices\n",
    "queries = [\n",
    "    (\"quick fox\", [0, 1, 2]),\n",
    "    (\"lazy dog\", [3, 4]),\n",
    "    (\"brown fox\", [0, 1, 2, 4])\n",
    "]\n",
    "\n",
    "# Create TF-IDF vectorizer\n",
    "vectorizer = TfidfVectorizer()\n",
    "\n",
    "# Vectorize documents\n",
    "document_vectors = vectorizer.fit_transform(documents)\n",
    "\n",
    "# Train a logistic regression reranker\n",
    "reranker = LogisticRegression(random_state=42)\n",
    "X_train = []\n",
    "y_train = []\n",
    "\n",
    "for query, relevant_docs in queries:\n",
    "    query_vector = vectorizer.transform([query])\n",
    "    for doc_idx, doc_vector in enumerate(document_vectors):\n",
    "        X_train.append(np.concatenate((query_vector.toarray()[0], doc_vector.toarray()[0])))\n",
    "        y_train.append(1 if doc_idx in relevant_docs else 0)\n",
    "\n",
    "reranker.fit(X_train, y_train)\n",
    "\n",
    "# Example usage of the trained reranker\n",
    "query = \"quick brown fox\"\n",
    "query_vector = vectorizer.transform([query])\n",
    "scores = []\n",
    "\n",
    "for doc_vector in document_vectors:\n",
    "    input_vector = np.concatenate((query_vector.toarray()[0], doc_vector.toarray()[0]))\n",
    "    score = reranker.predict_proba([input_vector])[0][1]\n",
    "    scores.append(score)\n",
    "\n",
    "ranked_indices = np.argsort(scores)[::-1]\n",
    "print(\"Ranked documents for query:\", query)\n",
    "for idx in ranked_indices:\n",
    "    print(\"Document:\", documents[idx])\n",
    "    print(\"Score:\", scores[idx])\n",
    "    print()"
   ]
  },
  {
   "cell_type": "code",
   "execution_count": 5,
   "metadata": {},
   "outputs": [
    {
     "name": "stdout",
     "output_type": "stream",
     "text": [
      "Loading default cross-encoder model for language en\n",
      "Warning: Model type could not be auto-mapped with the defaults list. Defaulting to TransformerRanker.\n",
      "If your model is NOT intended to be ran as a one-label cross-encoder, please reload it and specify the model_type! Otherwise, you may ignore this warning. You may specify `model_type='cross-encoder'` to suppress this warning in the future.\n",
      "Default Model: mixedbread-ai/mxbai-rerank-base-v1\n",
      "Loading TransformerRanker model mixedbread-ai/mxbai-rerank-base-v1\n",
      "No device set\n",
      "Using device cuda\n",
      "No dtype set\n",
      "Using dtype torch.float16\n",
      "Loaded model mixedbread-ai/mxbai-rerank-base-v1\n",
      "Using device cuda.\n",
      "Using dtype torch.float16.\n"
     ]
    }
   ],
   "source": [
    "from rerankers import Reranker\n",
    "\n",
    "ranker = Reranker('cross-encoder')\n",
    "\n",
    "texts = [\n",
    "    \"I like to play soccer\",\n",
    "    \"I like to play football\",\n",
    "    \"War and Peace is a great book\",\n",
    "    \"I love dogs\",\n",
    "    \"Ginger cats aren't very smart\",\n",
    "    \"I like to play basketball\",\n",
    "]\n",
    "\n",
    "results = ranker.rank(query=\"What's your favorite sport?\", docs=texts)"
   ]
  },
  {
   "cell_type": "code",
   "execution_count": 6,
   "metadata": {},
   "outputs": [
    {
     "data": {
      "text/html": [
       "<pre style=\"white-space:pre;overflow-x:auto;line-height:normal;font-family:Menlo,'DejaVu Sans Mono',consolas,'Courier New',monospace\"><span style=\"color: #800080; text-decoration-color: #800080; font-weight: bold\">RankedResults</span><span style=\"font-weight: bold\">(</span>\n",
       "    <span style=\"color: #808000; text-decoration-color: #808000\">results</span>=<span style=\"font-weight: bold\">[</span>\n",
       "        <span style=\"color: #800080; text-decoration-color: #800080; font-weight: bold\">Result</span><span style=\"font-weight: bold\">(</span><span style=\"color: #808000; text-decoration-color: #808000\">doc_id</span>=<span style=\"color: #008080; text-decoration-color: #008080; font-weight: bold\">5</span>, <span style=\"color: #808000; text-decoration-color: #808000\">text</span>=<span style=\"color: #008000; text-decoration-color: #008000\">'I like to play basketball'</span>, <span style=\"color: #808000; text-decoration-color: #808000\">score</span>=<span style=\"color: #008080; text-decoration-color: #008080; font-weight: bold\">-0.46533203125</span>, <span style=\"color: #808000; text-decoration-color: #808000\">rank</span>=<span style=\"color: #008080; text-decoration-color: #008080; font-weight: bold\">1</span><span style=\"font-weight: bold\">)</span>,\n",
       "        <span style=\"color: #800080; text-decoration-color: #800080; font-weight: bold\">Result</span><span style=\"font-weight: bold\">(</span><span style=\"color: #808000; text-decoration-color: #808000\">doc_id</span>=<span style=\"color: #008080; text-decoration-color: #008080; font-weight: bold\">0</span>, <span style=\"color: #808000; text-decoration-color: #808000\">text</span>=<span style=\"color: #008000; text-decoration-color: #008000\">'I like to play soccer'</span>, <span style=\"color: #808000; text-decoration-color: #808000\">score</span>=<span style=\"color: #008080; text-decoration-color: #008080; font-weight: bold\">-0.7353515625</span>, <span style=\"color: #808000; text-decoration-color: #808000\">rank</span>=<span style=\"color: #008080; text-decoration-color: #008080; font-weight: bold\">2</span><span style=\"font-weight: bold\">)</span>,\n",
       "        <span style=\"color: #800080; text-decoration-color: #800080; font-weight: bold\">Result</span><span style=\"font-weight: bold\">(</span><span style=\"color: #808000; text-decoration-color: #808000\">doc_id</span>=<span style=\"color: #008080; text-decoration-color: #008080; font-weight: bold\">1</span>, <span style=\"color: #808000; text-decoration-color: #808000\">text</span>=<span style=\"color: #008000; text-decoration-color: #008000\">'I like to play football'</span>, <span style=\"color: #808000; text-decoration-color: #808000\">score</span>=<span style=\"color: #008080; text-decoration-color: #008080; font-weight: bold\">-0.9677734375</span>, <span style=\"color: #808000; text-decoration-color: #808000\">rank</span>=<span style=\"color: #008080; text-decoration-color: #008080; font-weight: bold\">3</span><span style=\"font-weight: bold\">)</span>,\n",
       "        <span style=\"color: #800080; text-decoration-color: #800080; font-weight: bold\">Result</span><span style=\"font-weight: bold\">(</span><span style=\"color: #808000; text-decoration-color: #808000\">doc_id</span>=<span style=\"color: #008080; text-decoration-color: #008080; font-weight: bold\">2</span>, <span style=\"color: #808000; text-decoration-color: #808000\">text</span>=<span style=\"color: #008000; text-decoration-color: #008000\">'War and Peace is a great book'</span>, <span style=\"color: #808000; text-decoration-color: #808000\">score</span>=<span style=\"color: #008080; text-decoration-color: #008080; font-weight: bold\">-5.40234375</span>, <span style=\"color: #808000; text-decoration-color: #808000\">rank</span>=<span style=\"color: #008080; text-decoration-color: #008080; font-weight: bold\">4</span><span style=\"font-weight: bold\">)</span>,\n",
       "        <span style=\"color: #800080; text-decoration-color: #800080; font-weight: bold\">Result</span><span style=\"font-weight: bold\">(</span><span style=\"color: #808000; text-decoration-color: #808000\">doc_id</span>=<span style=\"color: #008080; text-decoration-color: #008080; font-weight: bold\">3</span>, <span style=\"color: #808000; text-decoration-color: #808000\">text</span>=<span style=\"color: #008000; text-decoration-color: #008000\">'I love dogs'</span>, <span style=\"color: #808000; text-decoration-color: #808000\">score</span>=<span style=\"color: #008080; text-decoration-color: #008080; font-weight: bold\">-5.5859375</span>, <span style=\"color: #808000; text-decoration-color: #808000\">rank</span>=<span style=\"color: #008080; text-decoration-color: #008080; font-weight: bold\">5</span><span style=\"font-weight: bold\">)</span>,\n",
       "        <span style=\"color: #800080; text-decoration-color: #800080; font-weight: bold\">Result</span><span style=\"font-weight: bold\">(</span><span style=\"color: #808000; text-decoration-color: #808000\">doc_id</span>=<span style=\"color: #008080; text-decoration-color: #008080; font-weight: bold\">4</span>, <span style=\"color: #808000; text-decoration-color: #808000\">text</span>=<span style=\"color: #008000; text-decoration-color: #008000\">\"Ginger cats aren't very smart\"</span>, <span style=\"color: #808000; text-decoration-color: #808000\">score</span>=<span style=\"color: #008080; text-decoration-color: #008080; font-weight: bold\">-5.94921875</span>, <span style=\"color: #808000; text-decoration-color: #808000\">rank</span>=<span style=\"color: #008080; text-decoration-color: #008080; font-weight: bold\">6</span><span style=\"font-weight: bold\">)</span>\n",
       "    <span style=\"font-weight: bold\">]</span>,\n",
       "    <span style=\"color: #808000; text-decoration-color: #808000\">query</span>=<span style=\"color: #008000; text-decoration-color: #008000\">\"What's your favorite sport?\"</span>,\n",
       "    <span style=\"color: #808000; text-decoration-color: #808000\">has_scores</span>=<span style=\"color: #00ff00; text-decoration-color: #00ff00; font-style: italic\">True</span>\n",
       "<span style=\"font-weight: bold\">)</span>\n",
       "</pre>\n"
      ],
      "text/plain": [
       "\u001b[1;35mRankedResults\u001b[0m\u001b[1m(\u001b[0m\n",
       "    \u001b[33mresults\u001b[0m=\u001b[1m[\u001b[0m\n",
       "        \u001b[1;35mResult\u001b[0m\u001b[1m(\u001b[0m\u001b[33mdoc_id\u001b[0m=\u001b[1;36m5\u001b[0m, \u001b[33mtext\u001b[0m=\u001b[32m'I like to play basketball'\u001b[0m, \u001b[33mscore\u001b[0m=\u001b[1;36m-0.46533203125\u001b[0m, \u001b[33mrank\u001b[0m=\u001b[1;36m1\u001b[0m\u001b[1m)\u001b[0m,\n",
       "        \u001b[1;35mResult\u001b[0m\u001b[1m(\u001b[0m\u001b[33mdoc_id\u001b[0m=\u001b[1;36m0\u001b[0m, \u001b[33mtext\u001b[0m=\u001b[32m'I like to play soccer'\u001b[0m, \u001b[33mscore\u001b[0m=\u001b[1;36m-0.7353515625\u001b[0m, \u001b[33mrank\u001b[0m=\u001b[1;36m2\u001b[0m\u001b[1m)\u001b[0m,\n",
       "        \u001b[1;35mResult\u001b[0m\u001b[1m(\u001b[0m\u001b[33mdoc_id\u001b[0m=\u001b[1;36m1\u001b[0m, \u001b[33mtext\u001b[0m=\u001b[32m'I like to play football'\u001b[0m, \u001b[33mscore\u001b[0m=\u001b[1;36m-0.9677734375\u001b[0m, \u001b[33mrank\u001b[0m=\u001b[1;36m3\u001b[0m\u001b[1m)\u001b[0m,\n",
       "        \u001b[1;35mResult\u001b[0m\u001b[1m(\u001b[0m\u001b[33mdoc_id\u001b[0m=\u001b[1;36m2\u001b[0m, \u001b[33mtext\u001b[0m=\u001b[32m'War and Peace is a great book'\u001b[0m, \u001b[33mscore\u001b[0m=\u001b[1;36m-5.40234375\u001b[0m, \u001b[33mrank\u001b[0m=\u001b[1;36m4\u001b[0m\u001b[1m)\u001b[0m,\n",
       "        \u001b[1;35mResult\u001b[0m\u001b[1m(\u001b[0m\u001b[33mdoc_id\u001b[0m=\u001b[1;36m3\u001b[0m, \u001b[33mtext\u001b[0m=\u001b[32m'I love dogs'\u001b[0m, \u001b[33mscore\u001b[0m=\u001b[1;36m-5.5859375\u001b[0m, \u001b[33mrank\u001b[0m=\u001b[1;36m5\u001b[0m\u001b[1m)\u001b[0m,\n",
       "        \u001b[1;35mResult\u001b[0m\u001b[1m(\u001b[0m\u001b[33mdoc_id\u001b[0m=\u001b[1;36m4\u001b[0m, \u001b[33mtext\u001b[0m=\u001b[32m\"Ginger\u001b[0m\u001b[32m cats aren't very smart\"\u001b[0m, \u001b[33mscore\u001b[0m=\u001b[1;36m-5.94921875\u001b[0m, \u001b[33mrank\u001b[0m=\u001b[1;36m6\u001b[0m\u001b[1m)\u001b[0m\n",
       "    \u001b[1m]\u001b[0m,\n",
       "    \u001b[33mquery\u001b[0m=\u001b[32m\"What\u001b[0m\u001b[32m's your favorite sport?\"\u001b[0m,\n",
       "    \u001b[33mhas_scores\u001b[0m=\u001b[3;92mTrue\u001b[0m\n",
       "\u001b[1m)\u001b[0m\n"
      ]
     },
     "metadata": {},
     "output_type": "display_data"
    }
   ],
   "source": [
    "print(results)"
   ]
  },
  {
   "cell_type": "code",
   "execution_count": null,
   "metadata": {},
   "outputs": [],
   "source": []
  }
 ],
 "metadata": {
  "kernelspec": {
   "display_name": "new-rag",
   "language": "python",
   "name": "python3"
  },
  "language_info": {
   "codemirror_mode": {
    "name": "ipython",
    "version": 3
   },
   "file_extension": ".py",
   "mimetype": "text/x-python",
   "name": "python",
   "nbconvert_exporter": "python",
   "pygments_lexer": "ipython3",
   "version": "3.10.12"
  }
 },
 "nbformat": 4,
 "nbformat_minor": 2
}
